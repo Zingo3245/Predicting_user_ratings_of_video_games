{
 "cells": [
  {
   "cell_type": "code",
   "execution_count": 2,
   "metadata": {},
   "outputs": [
    {
     "name": "stderr",
     "output_type": "stream",
     "text": [
      "/Users/NickThomas/Desktop/anaconda/lib/python3.6/site-packages/statsmodels/compat/pandas.py:56: FutureWarning: The pandas.core.datetools module is deprecated and will be removed in a future version. Please use the pandas.tseries module instead.\n",
      "  from pandas.core import datetools\n",
      "/Users/NickThomas/Desktop/anaconda/lib/python3.6/site-packages/sklearn/cross_validation.py:41: DeprecationWarning: This module was deprecated in version 0.18 in favor of the model_selection module into which all the refactored classes and functions are moved. Also note that the interface of the new CV iterators are different from that of this module. This module will be removed in 0.20.\n",
      "  \"This module will be removed in 0.20.\", DeprecationWarning)\n"
     ]
    }
   ],
   "source": [
    "import pandas as pd\n",
    "import numpy as np\n",
    "import pickle \n",
    "import patsy\n",
    "import statsmodels.api as sm\n",
    "import statsmodels.formula.api as smf\n",
    "import matplotlib.pyplot as plt\n",
    "import seaborn as sns\n",
    "from sklearn.linear_model import LinearRegression\n",
    "from sklearn import metrics\n",
    "from sklearn.preprocessing import PolynomialFeatures\n",
    "from sklearn.pipeline import make_pipeline\n",
    "from sklearn.cross_validation import train_test_split\n",
    "from sklearn.cross_validation import KFold\n",
    "% matplotlib inline\n",
    "from sklearn.linear_model import Lasso\n",
    "from sklearn.metrics import mean_squared_error, mean_absolute_error\n",
    "from sklearn.preprocessing import StandardScaler\n",
    "from sklearn.model_selection import GridSearchCV\n",
    "import matplotlib\n",
    "matplotlib.style.use('fivethirtyeight') \n",
    "\n",
    "\n",
    "\n",
    "import warnings\n",
    "warnings.filterwarnings('ignore')\n",
    "\n",
    "\n",
    "from sklearn.linear_model import RidgeCV\n",
    "\n"
   ]
  },
  {
   "cell_type": "code",
   "execution_count": 3,
   "metadata": {},
   "outputs": [],
   "source": [
    "with open('/Users/NickThomas/Project_Luther/data/Steam_games_dumb_df.pkl', 'rb') as pickle_file:\n",
    "        Steam_games_dumb_df = pickle.load(pickle_file)"
   ]
  },
  {
   "cell_type": "code",
   "execution_count": 4,
   "metadata": {},
   "outputs": [
    {
     "data": {
      "text/html": [
       "<div>\n",
       "<style scoped>\n",
       "    .dataframe tbody tr th:only-of-type {\n",
       "        vertical-align: middle;\n",
       "    }\n",
       "\n",
       "    .dataframe tbody tr th {\n",
       "        vertical-align: top;\n",
       "    }\n",
       "\n",
       "    .dataframe thead th {\n",
       "        text-align: right;\n",
       "    }\n",
       "</style>\n",
       "<table border=\"1\" class=\"dataframe\">\n",
       "  <thead>\n",
       "    <tr style=\"text-align: right;\">\n",
       "      <th></th>\n",
       "      <th>Game</th>\n",
       "      <th>Price</th>\n",
       "      <th>Owners</th>\n",
       "      <th>dlc_cost</th>\n",
       "      <th>number_of_reviews</th>\n",
       "      <th>user_rating</th>\n",
       "      <th>Release_date</th>\n",
       "      <th>1,000,000-2,000,000</th>\n",
       "      <th>100,000-200,000</th>\n",
       "      <th>20,000-50,000</th>\n",
       "      <th>200,000-500,000</th>\n",
       "      <th>50,000-100,000</th>\n",
       "      <th>500,000-1,000,000</th>\n",
       "    </tr>\n",
       "  </thead>\n",
       "  <tbody>\n",
       "    <tr>\n",
       "      <th>0</th>\n",
       "      <td>Friday the 13th: Killer Puzzle</td>\n",
       "      <td>0.00</td>\n",
       "      <td>100,000 .. 200,000</td>\n",
       "      <td>18.89</td>\n",
       "      <td>1184</td>\n",
       "      <td>95</td>\n",
       "      <td>2018-04-12</td>\n",
       "      <td>0</td>\n",
       "      <td>1</td>\n",
       "      <td>0</td>\n",
       "      <td>0</td>\n",
       "      <td>0</td>\n",
       "      <td>0</td>\n",
       "    </tr>\n",
       "    <tr>\n",
       "      <th>1</th>\n",
       "      <td>Radical Heights</td>\n",
       "      <td>0.00</td>\n",
       "      <td>1,000,000 .. 2,000,000</td>\n",
       "      <td>14.99</td>\n",
       "      <td>7365</td>\n",
       "      <td>57</td>\n",
       "      <td>2018-04-10</td>\n",
       "      <td>1</td>\n",
       "      <td>0</td>\n",
       "      <td>0</td>\n",
       "      <td>0</td>\n",
       "      <td>0</td>\n",
       "      <td>0</td>\n",
       "    </tr>\n",
       "    <tr>\n",
       "      <th>2</th>\n",
       "      <td>Farm Manager 2018</td>\n",
       "      <td>19.99</td>\n",
       "      <td>20,000 .. 50,000</td>\n",
       "      <td>12.95</td>\n",
       "      <td>276</td>\n",
       "      <td>62</td>\n",
       "      <td>2018-04-06</td>\n",
       "      <td>0</td>\n",
       "      <td>0</td>\n",
       "      <td>1</td>\n",
       "      <td>0</td>\n",
       "      <td>0</td>\n",
       "      <td>0</td>\n",
       "    </tr>\n",
       "    <tr>\n",
       "      <th>3</th>\n",
       "      <td>Mirror</td>\n",
       "      <td>1.19</td>\n",
       "      <td>200,000 .. 500,000</td>\n",
       "      <td>2.38</td>\n",
       "      <td>982</td>\n",
       "      <td>96</td>\n",
       "      <td>2018-04-19</td>\n",
       "      <td>0</td>\n",
       "      <td>0</td>\n",
       "      <td>0</td>\n",
       "      <td>1</td>\n",
       "      <td>0</td>\n",
       "      <td>0</td>\n",
       "    </tr>\n",
       "    <tr>\n",
       "      <th>4</th>\n",
       "      <td>Minit</td>\n",
       "      <td>9.99</td>\n",
       "      <td>0 .. 20,000</td>\n",
       "      <td>0.00</td>\n",
       "      <td>221</td>\n",
       "      <td>94</td>\n",
       "      <td>2018-04-03</td>\n",
       "      <td>0</td>\n",
       "      <td>0</td>\n",
       "      <td>0</td>\n",
       "      <td>0</td>\n",
       "      <td>0</td>\n",
       "      <td>0</td>\n",
       "    </tr>\n",
       "  </tbody>\n",
       "</table>\n",
       "</div>"
      ],
      "text/plain": [
       "                             Game  Price                  Owners  dlc_cost  \\\n",
       "0  Friday the 13th: Killer Puzzle   0.00      100,000 .. 200,000     18.89   \n",
       "1                 Radical Heights   0.00  1,000,000 .. 2,000,000     14.99   \n",
       "2               Farm Manager 2018  19.99        20,000 .. 50,000     12.95   \n",
       "3                          Mirror   1.19      200,000 .. 500,000      2.38   \n",
       "4                           Minit   9.99             0 .. 20,000      0.00   \n",
       "\n",
       "   number_of_reviews  user_rating Release_date  1,000,000-2,000,000  \\\n",
       "0               1184           95   2018-04-12                    0   \n",
       "1               7365           57   2018-04-10                    1   \n",
       "2                276           62   2018-04-06                    0   \n",
       "3                982           96   2018-04-19                    0   \n",
       "4                221           94   2018-04-03                    0   \n",
       "\n",
       "   100,000-200,000  20,000-50,000  200,000-500,000  50,000-100,000  \\\n",
       "0                1              0                0               0   \n",
       "1                0              0                0               0   \n",
       "2                0              1                0               0   \n",
       "3                0              0                1               0   \n",
       "4                0              0                0               0   \n",
       "\n",
       "   500,000-1,000,000  \n",
       "0                  0  \n",
       "1                  0  \n",
       "2                  0  \n",
       "3                  0  \n",
       "4                  0  "
      ]
     },
     "execution_count": 4,
     "metadata": {},
     "output_type": "execute_result"
    }
   ],
   "source": [
    "Steam_games_dumb_df.head()"
   ]
  },
  {
   "cell_type": "code",
   "execution_count": 5,
   "metadata": {},
   "outputs": [
    {
     "data": {
      "text/plain": [
       "<matplotlib.axes._subplots.AxesSubplot at 0x1c18652390>"
      ]
     },
     "execution_count": 5,
     "metadata": {},
     "output_type": "execute_result"
    },
    {
     "data": {
      "image/png": "[encoded data removed]",
      "text/plain": [
       "<Figure size 432x288 with 1 Axes>"
      ]
     },
     "metadata": {},
     "output_type": "display_data"
    }
   ],
   "source": [
    "Steam_games_dumb_df.user_rating.hist(edgecolor='black')"
   ]
  },
  {
   "cell_type": "code",
   "execution_count": 6,
   "metadata": {},
   "outputs": [
    {
     "data": {
      "text/html": [
       "<div>\n",
       "<style scoped>\n",
       "    .dataframe tbody tr th:only-of-type {\n",
       "        vertical-align: middle;\n",
       "    }\n",
       "\n",
       "    .dataframe tbody tr th {\n",
       "        vertical-align: top;\n",
       "    }\n",
       "\n",
       "    .dataframe thead th {\n",
       "        text-align: right;\n",
       "    }\n",
       "</style>\n",
       "<table border=\"1\" class=\"dataframe\">\n",
       "  <thead>\n",
       "    <tr style=\"text-align: right;\">\n",
       "      <th></th>\n",
       "      <th>Price</th>\n",
       "      <th>Owners</th>\n",
       "      <th>dlc_cost</th>\n",
       "      <th>number_of_reviews</th>\n",
       "      <th>user_rating</th>\n",
       "      <th>1,000,000-2,000,000</th>\n",
       "      <th>100,000-200,000</th>\n",
       "      <th>20,000-50,000</th>\n",
       "      <th>200,000-500,000</th>\n",
       "      <th>50,000-100,000</th>\n",
       "      <th>500,000-1,000,000</th>\n",
       "    </tr>\n",
       "  </thead>\n",
       "  <tbody>\n",
       "    <tr>\n",
       "      <th>Price</th>\n",
       "      <td>1.000000</td>\n",
       "      <td>0.061500</td>\n",
       "      <td>0.468623</td>\n",
       "      <td>0.200962</td>\n",
       "      <td>-0.212878</td>\n",
       "      <td>-0.112090</td>\n",
       "      <td>-0.043862</td>\n",
       "      <td>0.075246</td>\n",
       "      <td>-0.133627</td>\n",
       "      <td>-0.011525</td>\n",
       "      <td>0.307666</td>\n",
       "    </tr>\n",
       "    <tr>\n",
       "      <th>Owners</th>\n",
       "      <td>0.061500</td>\n",
       "      <td>1.000000</td>\n",
       "      <td>0.176069</td>\n",
       "      <td>0.319046</td>\n",
       "      <td>-0.066984</td>\n",
       "      <td>-0.031370</td>\n",
       "      <td>0.124443</td>\n",
       "      <td>0.340626</td>\n",
       "      <td>0.272970</td>\n",
       "      <td>0.677665</td>\n",
       "      <td>0.274257</td>\n",
       "    </tr>\n",
       "    <tr>\n",
       "      <th>dlc_cost</th>\n",
       "      <td>0.468623</td>\n",
       "      <td>0.176069</td>\n",
       "      <td>1.000000</td>\n",
       "      <td>0.231671</td>\n",
       "      <td>-0.147473</td>\n",
       "      <td>0.116966</td>\n",
       "      <td>0.043267</td>\n",
       "      <td>-0.030799</td>\n",
       "      <td>0.151640</td>\n",
       "      <td>0.025576</td>\n",
       "      <td>0.244562</td>\n",
       "    </tr>\n",
       "    <tr>\n",
       "      <th>number_of_reviews</th>\n",
       "      <td>0.200962</td>\n",
       "      <td>0.319046</td>\n",
       "      <td>0.231671</td>\n",
       "      <td>1.000000</td>\n",
       "      <td>-0.004958</td>\n",
       "      <td>0.498664</td>\n",
       "      <td>0.186131</td>\n",
       "      <td>-0.102990</td>\n",
       "      <td>0.036121</td>\n",
       "      <td>-0.014293</td>\n",
       "      <td>0.758697</td>\n",
       "    </tr>\n",
       "    <tr>\n",
       "      <th>user_rating</th>\n",
       "      <td>-0.212878</td>\n",
       "      <td>-0.066984</td>\n",
       "      <td>-0.147473</td>\n",
       "      <td>-0.004958</td>\n",
       "      <td>1.000000</td>\n",
       "      <td>-0.050305</td>\n",
       "      <td>0.030771</td>\n",
       "      <td>-0.268859</td>\n",
       "      <td>0.038293</td>\n",
       "      <td>0.085734</td>\n",
       "      <td>-0.038372</td>\n",
       "    </tr>\n",
       "    <tr>\n",
       "      <th>1,000,000-2,000,000</th>\n",
       "      <td>-0.112090</td>\n",
       "      <td>-0.031370</td>\n",
       "      <td>0.116966</td>\n",
       "      <td>0.498664</td>\n",
       "      <td>-0.050305</td>\n",
       "      <td>1.000000</td>\n",
       "      <td>-0.055972</td>\n",
       "      <td>-0.059094</td>\n",
       "      <td>-0.029336</td>\n",
       "      <td>-0.052753</td>\n",
       "      <td>-0.016737</td>\n",
       "    </tr>\n",
       "    <tr>\n",
       "      <th>100,000-200,000</th>\n",
       "      <td>-0.043862</td>\n",
       "      <td>0.124443</td>\n",
       "      <td>0.043267</td>\n",
       "      <td>0.186131</td>\n",
       "      <td>0.030771</td>\n",
       "      <td>-0.055972</td>\n",
       "      <td>1.000000</td>\n",
       "      <td>-0.138918</td>\n",
       "      <td>-0.068963</td>\n",
       "      <td>-0.124014</td>\n",
       "      <td>-0.039344</td>\n",
       "    </tr>\n",
       "    <tr>\n",
       "      <th>20,000-50,000</th>\n",
       "      <td>0.075246</td>\n",
       "      <td>0.340626</td>\n",
       "      <td>-0.030799</td>\n",
       "      <td>-0.102990</td>\n",
       "      <td>-0.268859</td>\n",
       "      <td>-0.059094</td>\n",
       "      <td>-0.138918</td>\n",
       "      <td>1.000000</td>\n",
       "      <td>-0.072809</td>\n",
       "      <td>-0.130931</td>\n",
       "      <td>-0.041539</td>\n",
       "    </tr>\n",
       "    <tr>\n",
       "      <th>200,000-500,000</th>\n",
       "      <td>-0.133627</td>\n",
       "      <td>0.272970</td>\n",
       "      <td>0.151640</td>\n",
       "      <td>0.036121</td>\n",
       "      <td>0.038293</td>\n",
       "      <td>-0.029336</td>\n",
       "      <td>-0.068963</td>\n",
       "      <td>-0.072809</td>\n",
       "      <td>1.000000</td>\n",
       "      <td>-0.064998</td>\n",
       "      <td>-0.020621</td>\n",
       "    </tr>\n",
       "    <tr>\n",
       "      <th>50,000-100,000</th>\n",
       "      <td>-0.011525</td>\n",
       "      <td>0.677665</td>\n",
       "      <td>0.025576</td>\n",
       "      <td>-0.014293</td>\n",
       "      <td>0.085734</td>\n",
       "      <td>-0.052753</td>\n",
       "      <td>-0.124014</td>\n",
       "      <td>-0.130931</td>\n",
       "      <td>-0.064998</td>\n",
       "      <td>1.000000</td>\n",
       "      <td>-0.037082</td>\n",
       "    </tr>\n",
       "    <tr>\n",
       "      <th>500,000-1,000,000</th>\n",
       "      <td>0.307666</td>\n",
       "      <td>0.274257</td>\n",
       "      <td>0.244562</td>\n",
       "      <td>0.758697</td>\n",
       "      <td>-0.038372</td>\n",
       "      <td>-0.016737</td>\n",
       "      <td>-0.039344</td>\n",
       "      <td>-0.041539</td>\n",
       "      <td>-0.020621</td>\n",
       "      <td>-0.037082</td>\n",
       "      <td>1.000000</td>\n",
       "    </tr>\n",
       "  </tbody>\n",
       "</table>\n",
       "</div>"
      ],
      "text/plain": [
       "                        Price    Owners  dlc_cost  number_of_reviews  \\\n",
       "Price                1.000000  0.061500  0.468623           0.200962   \n",
       "Owners               0.061500  1.000000  0.176069           0.319046   \n",
       "dlc_cost             0.468623  0.176069  1.000000           0.231671   \n",
       "number_of_reviews    0.200962  0.319046  0.231671           1.000000   \n",
       "user_rating         -0.212878 -0.066984 -0.147473          -0.004958   \n",
       "1,000,000-2,000,000 -0.112090 -0.031370  0.116966           0.498664   \n",
       "100,000-200,000     -0.043862  0.124443  0.043267           0.186131   \n",
       "20,000-50,000        0.075246  0.340626 -0.030799          -0.102990   \n",
       "200,000-500,000     -0.133627  0.272970  0.151640           0.036121   \n",
       "50,000-100,000      -0.011525  0.677665  0.025576          -0.014293   \n",
       "500,000-1,000,000    0.307666  0.274257  0.244562           0.758697   \n",
       "\n",
       "                     user_rating  1,000,000-2,000,000  100,000-200,000  \\\n",
       "Price                  -0.212878            -0.112090        -0.043862   \n",
       "Owners                 -0.066984            -0.031370         0.124443   \n",
       "dlc_cost               -0.147473             0.116966         0.043267   \n",
       "number_of_reviews      -0.004958             0.498664         0.186131   \n",
       "user_rating             1.000000            -0.050305         0.030771   \n",
       "1,000,000-2,000,000    -0.050305             1.000000        -0.055972   \n",
       "100,000-200,000         0.030771            -0.055972         1.000000   \n",
       "20,000-50,000          -0.268859            -0.059094        -0.138918   \n",
       "200,000-500,000         0.038293            -0.029336        -0.068963   \n",
       "50,000-100,000          0.085734            -0.052753        -0.124014   \n",
       "500,000-1,000,000      -0.038372            -0.016737        -0.039344   \n",
       "\n",
       "                     20,000-50,000  200,000-500,000  50,000-100,000  \\\n",
       "Price                     0.075246        -0.133627       -0.011525   \n",
       "Owners                    0.340626         0.272970        0.677665   \n",
       "dlc_cost                 -0.030799         0.151640        0.025576   \n",
       "number_of_reviews        -0.102990         0.036121       -0.014293   \n",
       "user_rating              -0.268859         0.038293        0.085734   \n",
       "1,000,000-2,000,000      -0.059094        -0.029336       -0.052753   \n",
       "100,000-200,000          -0.138918        -0.068963       -0.124014   \n",
       "20,000-50,000             1.000000        -0.072809       -0.130931   \n",
       "200,000-500,000          -0.072809         1.000000       -0.064998   \n",
       "50,000-100,000           -0.130931        -0.064998        1.000000   \n",
       "500,000-1,000,000        -0.041539        -0.020621       -0.037082   \n",
       "\n",
       "                     500,000-1,000,000  \n",
       "Price                         0.307666  \n",
       "Owners                        0.274257  \n",
       "dlc_cost                      0.244562  \n",
       "number_of_reviews             0.758697  \n",
       "user_rating                  -0.038372  \n",
       "1,000,000-2,000,000          -0.016737  \n",
       "100,000-200,000              -0.039344  \n",
       "20,000-50,000                -0.041539  \n",
       "200,000-500,000              -0.020621  \n",
       "50,000-100,000               -0.037082  \n",
       "500,000-1,000,000             1.000000  "
      ]
     },
     "execution_count": 6,
     "metadata": {},
     "output_type": "execute_result"
    }
   ],
   "source": [
    "Steam_games_dumb_df['Owners'] = Steam_games_dumb_df.Owners.astype('category').cat.codes\n",
    "Steam_games_dumb_df.assign(Owners=Steam_games_dumb_df.Owners.astype('category').cat.codes).corr()"
   ]
  },
  {
   "cell_type": "code",
   "execution_count": 7,
   "metadata": {},
   "outputs": [
    {
     "name": "stdout",
     "output_type": "stream",
     "text": [
      "<class 'pandas.core.frame.DataFrame'>\n",
      "Int64Index: 86 entries, 0 to 98\n",
      "Data columns (total 13 columns):\n",
      "Game                   86 non-null object\n",
      "Price                  86 non-null float64\n",
      "Owners                 86 non-null int8\n",
      "dlc_cost               86 non-null float64\n",
      "number_of_reviews      86 non-null int64\n",
      "user_rating            86 non-null int64\n",
      "Release_date           86 non-null datetime64[ns]\n",
      "1,000,000-2,000,000    86 non-null uint8\n",
      "100,000-200,000        86 non-null uint8\n",
      "20,000-50,000          86 non-null uint8\n",
      "200,000-500,000        86 non-null uint8\n",
      "50,000-100,000         86 non-null uint8\n",
      "500,000-1,000,000      86 non-null uint8\n",
      "dtypes: datetime64[ns](1), float64(2), int64(2), int8(1), object(1), uint8(6)\n",
      "memory usage: 5.3+ KB\n"
     ]
    }
   ],
   "source": [
    "Steam_games_dumb_df.info()"
   ]
  },
  {
   "cell_type": "code",
   "execution_count": 8,
   "metadata": {},
   "outputs": [],
   "source": [
    "Steam_games_dumb_df['user_rating_log']=np.log(Steam_games_dumb_df.user_rating)"
   ]
  },
  {
   "cell_type": "code",
   "execution_count": 9,
   "metadata": {},
   "outputs": [],
   "source": [
    "del Steam_games_dumb_df['user_rating_log']"
   ]
  },
  {
   "cell_type": "code",
   "execution_count": 12,
   "metadata": {},
   "outputs": [
    {
     "data": {
      "text/plain": [
       "<matplotlib.axes._subplots.AxesSubplot at 0x1c231349b0>"
      ]
     },
     "execution_count": 12,
     "metadata": {},
     "output_type": "execute_result"
    },
    {
     "data": {
      "image/png": "[encoded data removed]",
      "text/plain": [
       "<Figure size 432x288 with 1 Axes>"
      ]
     },
     "metadata": {},
     "output_type": "display_data"
    }
   ],
   "source": [
    "Steam_games_dumb_df.user_rating.hist(edgecolor='black')"
   ]
  },
  {
   "cell_type": "code",
   "execution_count": 10,
   "metadata": {},
   "outputs": [],
   "source": [
    "Steam_games_dumb_df = Steam_games_dumb_df.drop(['20,000-50,000', '1,000,000-2,000,000', '500,000-1,000,000', '100,000-200,000', '200,000-500,000', '50,000-100,000'], axis=1)"
   ]
  },
  {
   "cell_type": "code",
   "execution_count": null,
   "metadata": {},
   "outputs": [],
   "source": []
  },
  {
   "cell_type": "code",
   "execution_count": 11,
   "metadata": {},
   "outputs": [
    {
     "name": "stdout",
     "output_type": "stream",
     "text": [
      "Price               -0.212878\n",
      "dlc_cost            -0.147473\n",
      "Owners              -0.066984\n",
      "number_of_reviews   -0.004958\n",
      "user_rating          1.000000\n",
      "Name: user_rating, dtype: float64\n"
     ]
    },
    {
     "data": {
      "text/plain": [
       "<function matplotlib.pyplot.show(*args, **kw)>"
      ]
     },
     "execution_count": 11,
     "metadata": {},
     "output_type": "execute_result"
    },
    {
     "data": {
      "image/png": "[encoded data removed]",
      "text/plain": [
       "<Figure size 432x288 with 1 Axes>"
      ]
     },
     "metadata": {},
     "output_type": "display_data"
    }
   ],
   "source": [
    "Steam_games_dumb_df.corr()['user_rating'].plot.barh(color='red', edgecolor='black')\n",
    "print(Steam_games_dumb_df.corr()['user_rating'].sort_values())\n",
    "plt.xlabel(\"Correlation\")\n",
    "plt.title(\"Correlations Table\")\n",
    "plt.show"
   ]
  },
  {
   "cell_type": "code",
   "execution_count": 12,
   "metadata": {},
   "outputs": [],
   "source": [
    "#Create a test-train split\n",
    "x_list = ['Price', 'Owners']\n",
    "X = Steam_games_dumb_df[x_list]\n",
    "y = Steam_games_dumb_df.user_rating\n",
    "X_train, X_test, y_train, y_test = train_test_split(X, y, test_size=0.2) #, random_state=42\n"
   ]
  },
  {
   "cell_type": "code",
   "execution_count": 13,
   "metadata": {},
   "outputs": [
    {
     "data": {
      "text/plain": [
       "GridSearchCV(cv=5, error_score='raise',\n",
       "       estimator=Lasso(alpha=1.0, copy_X=True, fit_intercept=True, max_iter=5000,\n",
       "   normalize=False, positive=False, precompute=False, random_state=None,\n",
       "   selection='cyclic', tol=0.0001, warm_start=False),\n",
       "       fit_params=None, iid=True, n_jobs=1,\n",
       "       param_grid={'alpha': [1e-05, 0.001, 0.1, 1], 'fit_intercept': [True, False]},\n",
       "       pre_dispatch='2*n_jobs', refit=True, return_train_score='warn',\n",
       "       scoring='neg_mean_absolute_error', verbose=0)"
      ]
     },
     "execution_count": 13,
     "metadata": {},
     "output_type": "execute_result"
    }
   ],
   "source": [
    "model = Lasso(max_iter=5000)\n",
    "parameters = {'alpha': [1e-5,1e-3,1e-1,1], 'fit_intercept': [True,False]}\n",
    "grid = GridSearchCV(model,parameters, cv=5, scoring='neg_mean_absolute_error', n_jobs=1)\n",
    "grid.fit(X, y)"
   ]
  },
  {
   "cell_type": "code",
   "execution_count": 14,
   "metadata": {},
   "outputs": [
    {
     "data": {
      "text/plain": [
       "{'mean_fit_time': array([0.00198517, 0.00163088, 0.00135241, 0.00138946, 0.00127764,\n",
       "        0.00160542, 0.00155735, 0.00180478]),\n",
       " 'std_fit_time': array([9.74051530e-04, 2.78470802e-04, 1.07345523e-04, 2.09960958e-04,\n",
       "        5.29066675e-05, 2.75625968e-04, 2.43368081e-04, 1.61089072e-04]),\n",
       " 'mean_score_time': array([0.00060782, 0.00048814, 0.00036154, 0.00040298, 0.00035696,\n",
       "        0.00046825, 0.00040922, 0.00051885]),\n",
       " 'std_score_time': array([3.59371500e-04, 1.08463171e-04, 1.85841739e-05, 5.61789053e-05,\n",
       "        2.08571429e-05, 7.46400196e-05, 5.43637441e-05, 1.03840354e-04]),\n",
       " 'param_alpha': masked_array(data=[1e-05, 1e-05, 0.001, 0.001, 0.1, 0.1, 1, 1],\n",
       "              mask=[False, False, False, False, False, False, False, False],\n",
       "        fill_value='?',\n",
       "             dtype=object),\n",
       " 'param_fit_intercept': masked_array(data=[True, False, True, False, True, False, True, False],\n",
       "              mask=[False, False, False, False, False, False, False, False],\n",
       "        fill_value='?',\n",
       "             dtype=object),\n",
       " 'params': [{'alpha': 1e-05, 'fit_intercept': True},\n",
       "  {'alpha': 1e-05, 'fit_intercept': False},\n",
       "  {'alpha': 0.001, 'fit_intercept': True},\n",
       "  {'alpha': 0.001, 'fit_intercept': False},\n",
       "  {'alpha': 0.1, 'fit_intercept': True},\n",
       "  {'alpha': 0.1, 'fit_intercept': False},\n",
       "  {'alpha': 1, 'fit_intercept': True},\n",
       "  {'alpha': 1, 'fit_intercept': False}],\n",
       " 'split0_test_score': array([-15.63632618, -49.43331552, -15.63603752, -49.43317636,\n",
       "        -15.6071748 , -49.41889118, -15.34481033, -49.28797407]),\n",
       " 'split1_test_score': array([-15.16881823, -54.46903438, -15.16887535, -54.46897664,\n",
       "        -15.17458663, -54.46358178, -15.22650768, -54.41584041]),\n",
       " 'split2_test_score': array([-18.49306271, -48.26450581, -18.49344136, -48.26450667,\n",
       "        -18.53130655, -48.26328136, -18.73615344, -48.251594  ]),\n",
       " 'split3_test_score': array([-14.47369737, -60.91649051, -14.47353811, -60.91664369,\n",
       "        -14.45761249, -60.93219245, -14.44139862, -61.07365626]),\n",
       " 'split4_test_score': array([-12.68917365, -44.86672971, -12.68921964, -44.8669803 ,\n",
       "        -12.69375951, -44.89074307, -12.73503109, -45.10318138]),\n",
       " 'mean_test_score': array([-15.29621691, -51.56493728, -15.29622025, -51.56497673,\n",
       "        -15.29654249, -51.56844905, -15.29733872, -51.59925765]),\n",
       " 'std_test_score': array([1.87746634, 5.56122302, 1.87758325, 5.56121938, 1.88939325,\n",
       "        5.56148105, 1.94465685, 5.56662753]),\n",
       " 'rank_test_score': array([1, 5, 2, 6, 3, 7, 4, 8], dtype=int32),\n",
       " 'split0_train_score': array([-14.57392396, -51.16754277, -14.57400596, -51.16757738,\n",
       "        -14.58220576, -51.17103357, -14.66375508, -51.20243831]),\n",
       " 'split1_train_score': array([-14.26527363, -49.78272253, -14.26537227, -49.78276943,\n",
       "        -14.27523696, -49.78748055, -14.36491647, -49.83038157]),\n",
       " 'split2_train_score': array([-13.16747241, -51.46580272, -13.16752423, -51.46587267,\n",
       "        -13.17385375, -51.47210734, -13.20594793, -51.5284681 ]),\n",
       " 'split3_train_score': array([-14.85001742, -48.16921075, -14.84993582, -48.16921723,\n",
       "        -14.84177546, -48.16983181, -14.82433835, -48.17540273]),\n",
       " 'split4_train_score': array([-14.87889239, -52.33866916, -14.87899721, -52.33870642,\n",
       "        -14.88945908, -52.34239434, -14.98456703, -52.37581645]),\n",
       " 'mean_train_score': array([-14.34711596, -50.58478958, -14.3471671 , -50.58482863,\n",
       "        -14.3525062 , -50.58856952, -14.40870497, -50.62250143]),\n",
       " 'std_train_score': array([0.63014205, 1.46083618, 0.63013066, 1.46084903, 0.62859475,\n",
       "        1.46204245, 0.63528902, 1.47288573])}"
      ]
     },
     "execution_count": 14,
     "metadata": {},
     "output_type": "execute_result"
    }
   ],
   "source": [
    "grid.cv_results_"
   ]
  },
  {
   "cell_type": "code",
   "execution_count": 15,
   "metadata": {},
   "outputs": [
    {
     "data": {
      "text/plain": [
       "sklearn.linear_model.coordinate_descent.Lasso"
      ]
     },
     "execution_count": 15,
     "metadata": {},
     "output_type": "execute_result"
    }
   ],
   "source": [
    "type(grid.best_estimator_)"
   ]
  },
  {
   "cell_type": "code",
   "execution_count": 16,
   "metadata": {},
   "outputs": [
    {
     "name": "stdout",
     "output_type": "stream",
     "text": [
      "pred, resid: 77.4481359425196, 18.5518640574804\n",
      "pred, resid: 77.60488511359205, 16.395114886407953\n",
      "pred, resid: 78.27739143139102, 16.722608568608976\n",
      "pred, resid: 76.48404125059373, 1.5159587494062663\n",
      "pred, resid: 64.79937070614693, -34.79937070614693\n",
      "pred, resid: 77.18253818942583, -6.182538189425827\n",
      "pred, resid: 78.77961396688792, -5.779613966887922\n",
      "pred, resid: 78.77961396688792, 17.220386033112078\n",
      "pred, resid: 77.18253818942583, -9.182538189425827\n",
      "pred, resid: 73.17763633962241, -8.17763633962241\n",
      "pred, resid: 79.62240406698898, 14.377595933011023\n",
      "pred, resid: 79.84433115186265, 10.155668848137353\n",
      "pred, resid: 77.60488511359205, 12.395114886407953\n",
      "pred, resid: 76.98842098894298, 9.011579011057023\n",
      "pred, resid: 78.72572897659035, -11.725728976590347\n",
      "pred, resid: 78.24725537440055, -11.247255374400552\n",
      "pred, resid: 77.3528219717279, -4.352821971727906\n",
      "pred, resid: 76.48404125059373, 13.515958749406266\n"
     ]
    }
   ],
   "source": [
    "best_lasso = grid.best_estimator_\n",
    "lasso_pred = best_lasso.predict(X_test)\n",
    "for true,pred in zip(y_test[:20], lasso_pred[:20]):\n",
    "    resid = true - pred\n",
    "    print(\"pred, resid:\", str(pred) + \", \"+ str(resid))"
   ]
  },
  {
   "cell_type": "code",
   "execution_count": 17,
   "metadata": {},
   "outputs": [
    {
     "name": "stdout",
     "output_type": "stream",
     "text": [
      "{'alpha': 1e-05, 'fit_intercept': True} -15.296216913502377\n"
     ]
    }
   ],
   "source": [
    "print(grid.best_params_, grid.best_score_)"
   ]
  },
  {
   "cell_type": "code",
   "execution_count": 18,
   "metadata": {},
   "outputs": [
    {
     "name": "stdout",
     "output_type": "stream",
     "text": [
      "Linear regression:  0.07978170586172473\n",
      "Lasso Regression:  0.0797819398812567\n",
      "Coef: [-0.13031009  0.25010053]\n",
      "MSE train: 331.5676529299016\n",
      "MAE train: 15.010513404091242\n",
      "MSE test: 247.38244831605755\n",
      "MAE test: 15.010513404091242\n"
     ]
    }
   ],
   "source": [
    "#somehow this feels like an importvement\n",
    "lr = LinearRegression()\n",
    "lr.fit(X_train, y_train)\n",
    "score = lr.score(X_test, y_test)\n",
    "print(\"Linear regression: \", score)\n",
    "\n",
    "lr2 = Lasso(alpha = .00001)\n",
    "lr2.fit(X_train, y_train)\n",
    "score2 = lr2.score(X_test, y_test)\n",
    "print(\"Lasso Regression: \", score2)\n",
    "\n",
    "y_pred = lr2.predict(X_test)\n",
    "y_pred2 = lr2.predict(X_train)\n",
    "\n",
    "print(\"Coef:\", lr2.coef_)\n",
    "print(\"MSE train:\", mean_squared_error(y_train, y_pred2))\n",
    "print(\"MAE train:\", mean_absolute_error(y_train, y_pred2))\n",
    "print(\"MSE test:\", mean_squared_error(y_test, y_pred))\n",
    "print(\"MAE test:\", mean_absolute_error(y_train, y_pred2))\n",
    "\n",
    "\n"
   ]
  },
  {
   "cell_type": "code",
   "execution_count": 19,
   "metadata": {},
   "outputs": [
    {
     "data": {
      "text/plain": [
       "<function matplotlib.pyplot.show(*args, **kw)>"
      ]
     },
     "execution_count": 19,
     "metadata": {},
     "output_type": "execute_result"
    },
    {
     "data": {
      "image/png": "[encoded data removed]",
      "text/plain": [
       "<Figure size 432x288 with 1 Axes>"
      ]
     },
     "metadata": {},
     "output_type": "display_data"
    }
   ],
   "source": [
    "plt.scatter(y_pred, y_test)\n",
    "plt.axhline(y=0, color='k')\n",
    "plt.plot([55,80],[0,100], 'k--')\n",
    "plt.grid()\n",
    "plt.xlabel(\"Predicted Values\")\n",
    "plt.ylabel(\"Actual Values\")\n",
    "plt.title(\"Actual vs Predicted Values\")\n",
    "plt.show\n"
   ]
  },
  {
   "cell_type": "code",
   "execution_count": 20,
   "metadata": {},
   "outputs": [
    {
     "data": {
      "text/html": [
       "<table class=\"simpletable\">\n",
       "<caption>OLS Regression Results</caption>\n",
       "<tr>\n",
       "  <th>Dep. Variable:</th>       <td>user_rating</td>   <th>  R-squared:         </th> <td>   0.048</td>\n",
       "</tr>\n",
       "<tr>\n",
       "  <th>Model:</th>                   <td>OLS</td>       <th>  Adj. R-squared:    </th> <td>   0.025</td>\n",
       "</tr>\n",
       "<tr>\n",
       "  <th>Method:</th>             <td>Least Squares</td>  <th>  F-statistic:       </th> <td>   2.103</td>\n",
       "</tr>\n",
       "<tr>\n",
       "  <th>Date:</th>             <td>Fri, 27 Apr 2018</td> <th>  Prob (F-statistic):</th>  <td> 0.129</td> \n",
       "</tr>\n",
       "<tr>\n",
       "  <th>Time:</th>                 <td>15:20:15</td>     <th>  Log-Likelihood:    </th> <td> -368.53</td>\n",
       "</tr>\n",
       "<tr>\n",
       "  <th>No. Observations:</th>      <td>    86</td>      <th>  AIC:               </th> <td>   743.1</td>\n",
       "</tr>\n",
       "<tr>\n",
       "  <th>Df Residuals:</th>          <td>    83</td>      <th>  BIC:               </th> <td>   750.4</td>\n",
       "</tr>\n",
       "<tr>\n",
       "  <th>Df Model:</th>              <td>     2</td>      <th>                     </th>     <td> </td>   \n",
       "</tr>\n",
       "<tr>\n",
       "  <th>Covariance Type:</th>      <td>nonrobust</td>    <th>                     </th>     <td> </td>   \n",
       "</tr>\n",
       "</table>\n",
       "<table class=\"simpletable\">\n",
       "<tr>\n",
       "      <td></td>         <th>coef</th>     <th>std err</th>      <th>t</th>      <th>P>|t|</th>  <th>[0.025</th>    <th>0.975]</th>  \n",
       "</tr>\n",
       "<tr>\n",
       "  <th>Intercept</th> <td>   79.8443</td> <td>    2.746</td> <td>   29.079</td> <td> 0.000</td> <td>   74.383</td> <td>   85.306</td>\n",
       "</tr>\n",
       "<tr>\n",
       "  <th>Price</th>     <td>   -0.2242</td> <td>    0.115</td> <td>   -1.953</td> <td> 0.054</td> <td>   -0.452</td> <td>    0.004</td>\n",
       "</tr>\n",
       "<tr>\n",
       "  <th>Owners</th>    <td>   -0.5324</td> <td>    1.056</td> <td>   -0.504</td> <td> 0.615</td> <td>   -2.632</td> <td>    1.568</td>\n",
       "</tr>\n",
       "</table>\n",
       "<table class=\"simpletable\">\n",
       "<tr>\n",
       "  <th>Omnibus:</th>       <td> 9.496</td> <th>  Durbin-Watson:     </th> <td>   2.101</td>\n",
       "</tr>\n",
       "<tr>\n",
       "  <th>Prob(Omnibus):</th> <td> 0.009</td> <th>  Jarque-Bera (JB):  </th> <td>  10.066</td>\n",
       "</tr>\n",
       "<tr>\n",
       "  <th>Skew:</th>          <td>-0.838</td> <th>  Prob(JB):          </th> <td> 0.00652</td>\n",
       "</tr>\n",
       "<tr>\n",
       "  <th>Kurtosis:</th>      <td> 3.033</td> <th>  Cond. No.          </th> <td>    30.3</td>\n",
       "</tr>\n",
       "</table>"
      ],
      "text/plain": [
       "<class 'statsmodels.iolib.summary.Summary'>\n",
       "\"\"\"\n",
       "                            OLS Regression Results                            \n",
       "==============================================================================\n",
       "Dep. Variable:            user_rating   R-squared:                       0.048\n",
       "Model:                            OLS   Adj. R-squared:                  0.025\n",
       "Method:                 Least Squares   F-statistic:                     2.103\n",
       "Date:                Fri, 27 Apr 2018   Prob (F-statistic):              0.129\n",
       "Time:                        15:20:15   Log-Likelihood:                -368.53\n",
       "No. Observations:                  86   AIC:                             743.1\n",
       "Df Residuals:                      83   BIC:                             750.4\n",
       "Df Model:                           2                                         \n",
       "Covariance Type:            nonrobust                                         \n",
       "==============================================================================\n",
       "                 coef    std err          t      P>|t|      [0.025      0.975]\n",
       "------------------------------------------------------------------------------\n",
       "Intercept     79.8443      2.746     29.079      0.000      74.383      85.306\n",
       "Price         -0.2242      0.115     -1.953      0.054      -0.452       0.004\n",
       "Owners        -0.5324      1.056     -0.504      0.615      -2.632       1.568\n",
       "==============================================================================\n",
       "Omnibus:                        9.496   Durbin-Watson:                   2.101\n",
       "Prob(Omnibus):                  0.009   Jarque-Bera (JB):               10.066\n",
       "Skew:                          -0.838   Prob(JB):                      0.00652\n",
       "Kurtosis:                       3.033   Cond. No.                         30.3\n",
       "==============================================================================\n",
       "\n",
       "Warnings:\n",
       "[1] Standard Errors assume that the covariance matrix of the errors is correctly specified.\n",
       "\"\"\""
      ]
     },
     "execution_count": 20,
     "metadata": {},
     "output_type": "execute_result"
    }
   ],
   "source": [
    "lm2 = smf.ols('user_rating ~ Price + Owners', data=Steam_games_dumb_df)\n",
    "fit2 = lm2.fit()\n",
    "fit2.summary()"
   ]
  },
  {
   "cell_type": "code",
   "execution_count": 21,
   "metadata": {},
   "outputs": [
    {
     "data": {
      "text/plain": [
       "<matplotlib.axes._subplots.AxesSubplot at 0x1c192b7c50>"
      ]
     },
     "execution_count": 21,
     "metadata": {},
     "output_type": "execute_result"
    },
    {
     "data": {
      "image/png": "[encoded data removed]",
      "text/plain": [
       "<Figure size 864x576 with 1 Axes>"
      ]
     },
     "metadata": {},
     "output_type": "display_data"
    }
   ],
   "source": [
    "fit2.resid.plot(style='o', figsize=(12,8))"
   ]
  },
  {
   "cell_type": "code",
   "execution_count": 28,
   "metadata": {},
   "outputs": [
    {
     "data": {
      "text/plain": [
       "Text(0.5,1,'Residual Plot')"
      ]
     },
     "execution_count": 28,
     "metadata": {},
     "output_type": "execute_result"
    },
    {
     "data": {
      "image/png": "[encoded data removed]",
      "text/plain": [
       "<Figure size 864x576 with 1 Axes>"
      ]
     },
     "metadata": {},
     "output_type": "display_data"
    }
   ],
   "source": [
    "#Plot the residuals\n",
    "plt.figure(figsize=(12,8))\n",
    "plt.scatter(y_pred, y_pred - y_test, c='blue', s=100, label='(Testing Residuals)')\n",
    "\n",
    "plt.title(\"Residual Plot\")\n",
    "#plt.ylim(-10,10)"
   ]
  },
  {
   "cell_type": "code",
   "execution_count": 22,
   "metadata": {},
   "outputs": [],
   "source": [
    "# Pick a coefficient d and make the features!\n",
    "def get_polynomial_features(degree, x_values):\n",
    "    powers = [x_values]\n",
    "    current_power = 1\n",
    "    while len(powers) < degree:\n",
    "        current_power = len(powers) + 1\n",
    "        powers.append(x_values**current_power)\n",
    "        \n",
    "    X = np.concatenate(powers, axis = 1)\n",
    "    return X\n",
    "\n",
    "# example\n",
    "#get_polynomial_features(3, x_values)"
   ]
  },
  {
   "cell_type": "code",
   "execution_count": 23,
   "metadata": {},
   "outputs": [],
   "source": [
    "def get_polynomial_fit(degree, x_values, y_values):\n",
    "    X = get_polynomial_features(degree, x_values)\n",
    "    model = LinearRegression()\n",
    "    model.fit(X, y_values)\n",
    "    print(\"Score of the model is {}\".format(model.score(X, y_values)))\n",
    "    \n",
    "    return model\n",
    "\n",
    "def plot_polynomial_model(degree, x_values, y_values):\n",
    "    model = get_polynomial_fit(degree, x_values, y_values)\n",
    "    # plot points\n",
    "    plt.plot(x_values, y_values, 'ro')\n",
    "    \n",
    "    # make the curve\n",
    "    x_curve = np.arange(0,17,0.1).reshape(-1,1)\n",
    "    X_curve = get_polynomial_features(degree, x_curve)\n",
    "    y_curve = model.predict(X_curve)\n",
    "    plt.plot(x_curve, y_curve)\n",
    "    plt.ylim((0,160))\n",
    "    \n",
    "    "
   ]
  },
  {
   "cell_type": "code",
   "execution_count": 24,
   "metadata": {},
   "outputs": [
    {
     "name": "stdout",
     "output_type": "stream",
     "text": [
      "Score of the model is 0.21052921815416062\n"
     ]
    },
    {
     "ename": "ValueError",
     "evalue": "shapes (18,2) and (10,) not aligned: 2 (dim 1) != 10 (dim 0)",
     "output_type": "error",
     "traceback": [
      "\u001b[0;31m---------------------------------------------------------------------------\u001b[0m",
      "\u001b[0;31mValueError\u001b[0m                                Traceback (most recent call last)",
      "\u001b[0;32m<ipython-input-24-73787b8d06b9>\u001b[0m in \u001b[0;36m<module>\u001b[0;34m()\u001b[0m\n\u001b[1;32m      8\u001b[0m \u001b[0mnew_X\u001b[0m \u001b[0;34m=\u001b[0m \u001b[0mget_polynomial_features\u001b[0m\u001b[0;34m(\u001b[0m\u001b[0mdegree_to_fit\u001b[0m\u001b[0;34m,\u001b[0m \u001b[0mX_test\u001b[0m\u001b[0;34m)\u001b[0m\u001b[0;34m\u001b[0m\u001b[0m\n\u001b[1;32m      9\u001b[0m \u001b[0;34m\u001b[0m\u001b[0m\n\u001b[0;32m---> 10\u001b[0;31m \u001b[0mprint\u001b[0m\u001b[0;34m(\u001b[0m\u001b[0;34m\"Score on new (unseen) data points is {}\"\u001b[0m\u001b[0;34m.\u001b[0m\u001b[0mformat\u001b[0m\u001b[0;34m(\u001b[0m\u001b[0mmodel\u001b[0m\u001b[0;34m.\u001b[0m\u001b[0mscore\u001b[0m\u001b[0;34m(\u001b[0m\u001b[0mX_test\u001b[0m\u001b[0;34m,\u001b[0m \u001b[0my_test\u001b[0m\u001b[0;34m)\u001b[0m\u001b[0;34m)\u001b[0m\u001b[0;34m)\u001b[0m\u001b[0;34m\u001b[0m\u001b[0m\n\u001b[0m",
      "\u001b[0;32m~/Desktop/anaconda/lib/python3.6/site-packages/sklearn/base.py\u001b[0m in \u001b[0;36mscore\u001b[0;34m(self, X, y, sample_weight)\u001b[0m\n\u001b[1;32m    384\u001b[0m \u001b[0;34m\u001b[0m\u001b[0m\n\u001b[1;32m    385\u001b[0m         \u001b[0;32mfrom\u001b[0m \u001b[0;34m.\u001b[0m\u001b[0mmetrics\u001b[0m \u001b[0;32mimport\u001b[0m \u001b[0mr2_score\u001b[0m\u001b[0;34m\u001b[0m\u001b[0m\n\u001b[0;32m--> 386\u001b[0;31m         return r2_score(y, self.predict(X), sample_weight=sample_weight,\n\u001b[0m\u001b[1;32m    387\u001b[0m                         multioutput='variance_weighted')\n\u001b[1;32m    388\u001b[0m \u001b[0;34m\u001b[0m\u001b[0m\n",
      "\u001b[0;32m~/Desktop/anaconda/lib/python3.6/site-packages/sklearn/linear_model/base.py\u001b[0m in \u001b[0;36mpredict\u001b[0;34m(self, X)\u001b[0m\n\u001b[1;32m    254\u001b[0m             \u001b[0mReturns\u001b[0m \u001b[0mpredicted\u001b[0m \u001b[0mvalues\u001b[0m\u001b[0;34m.\u001b[0m\u001b[0;34m\u001b[0m\u001b[0m\n\u001b[1;32m    255\u001b[0m         \"\"\"\n\u001b[0;32m--> 256\u001b[0;31m         \u001b[0;32mreturn\u001b[0m \u001b[0mself\u001b[0m\u001b[0;34m.\u001b[0m\u001b[0m_decision_function\u001b[0m\u001b[0;34m(\u001b[0m\u001b[0mX\u001b[0m\u001b[0;34m)\u001b[0m\u001b[0;34m\u001b[0m\u001b[0m\n\u001b[0m\u001b[1;32m    257\u001b[0m \u001b[0;34m\u001b[0m\u001b[0m\n\u001b[1;32m    258\u001b[0m     \u001b[0m_preprocess_data\u001b[0m \u001b[0;34m=\u001b[0m \u001b[0mstaticmethod\u001b[0m\u001b[0;34m(\u001b[0m\u001b[0m_preprocess_data\u001b[0m\u001b[0;34m)\u001b[0m\u001b[0;34m\u001b[0m\u001b[0m\n",
      "\u001b[0;32m~/Desktop/anaconda/lib/python3.6/site-packages/sklearn/linear_model/base.py\u001b[0m in \u001b[0;36m_decision_function\u001b[0;34m(self, X)\u001b[0m\n\u001b[1;32m    239\u001b[0m         \u001b[0mX\u001b[0m \u001b[0;34m=\u001b[0m \u001b[0mcheck_array\u001b[0m\u001b[0;34m(\u001b[0m\u001b[0mX\u001b[0m\u001b[0;34m,\u001b[0m \u001b[0maccept_sparse\u001b[0m\u001b[0;34m=\u001b[0m\u001b[0;34m[\u001b[0m\u001b[0;34m'csr'\u001b[0m\u001b[0;34m,\u001b[0m \u001b[0;34m'csc'\u001b[0m\u001b[0;34m,\u001b[0m \u001b[0;34m'coo'\u001b[0m\u001b[0;34m]\u001b[0m\u001b[0;34m)\u001b[0m\u001b[0;34m\u001b[0m\u001b[0m\n\u001b[1;32m    240\u001b[0m         return safe_sparse_dot(X, self.coef_.T,\n\u001b[0;32m--> 241\u001b[0;31m                                dense_output=True) + self.intercept_\n\u001b[0m\u001b[1;32m    242\u001b[0m \u001b[0;34m\u001b[0m\u001b[0m\n\u001b[1;32m    243\u001b[0m     \u001b[0;32mdef\u001b[0m \u001b[0mpredict\u001b[0m\u001b[0;34m(\u001b[0m\u001b[0mself\u001b[0m\u001b[0;34m,\u001b[0m \u001b[0mX\u001b[0m\u001b[0;34m)\u001b[0m\u001b[0;34m:\u001b[0m\u001b[0;34m\u001b[0m\u001b[0m\n",
      "\u001b[0;32m~/Desktop/anaconda/lib/python3.6/site-packages/sklearn/utils/extmath.py\u001b[0m in \u001b[0;36msafe_sparse_dot\u001b[0;34m(a, b, dense_output)\u001b[0m\n\u001b[1;32m    138\u001b[0m         \u001b[0;32mreturn\u001b[0m \u001b[0mret\u001b[0m\u001b[0;34m\u001b[0m\u001b[0m\n\u001b[1;32m    139\u001b[0m     \u001b[0;32melse\u001b[0m\u001b[0;34m:\u001b[0m\u001b[0;34m\u001b[0m\u001b[0m\n\u001b[0;32m--> 140\u001b[0;31m         \u001b[0;32mreturn\u001b[0m \u001b[0mnp\u001b[0m\u001b[0;34m.\u001b[0m\u001b[0mdot\u001b[0m\u001b[0;34m(\u001b[0m\u001b[0ma\u001b[0m\u001b[0;34m,\u001b[0m \u001b[0mb\u001b[0m\u001b[0;34m)\u001b[0m\u001b[0;34m\u001b[0m\u001b[0m\n\u001b[0m\u001b[1;32m    141\u001b[0m \u001b[0;34m\u001b[0m\u001b[0m\n\u001b[1;32m    142\u001b[0m \u001b[0;34m\u001b[0m\u001b[0m\n",
      "\u001b[0;31mValueError\u001b[0m: shapes (18,2) and (10,) not aligned: 2 (dim 1) != 10 (dim 0)"
     ]
    }
   ],
   "source": [
    "num_new_points = 1000\n",
    "degree_to_fit = 5\n",
    "\n",
    "# fit the model on the original data\n",
    "model = get_polynomial_fit(degree_to_fit, X_train, y_train)\n",
    "\n",
    "# get the predictions for the new data\n",
    "new_X = get_polynomial_features(degree_to_fit, X_test)\n",
    "\n",
    "print(\"Score on new (unseen) data points is {}\".format(model.score(X_test, y_test)))"
   ]
  },
  {
   "cell_type": "code",
   "execution_count": null,
   "metadata": {},
   "outputs": [],
   "source": [
    "Poly_feat_2_fit = PolynomialFeatures(2).fit(X_train)\n",
    "X_train_poly_degree2 = Poly_feat_2_fit.transform(X_train)\n",
    "lr = LinearRegression()\n",
    "lr_degree_2_fit= lr.fit(X_train_poly_degree2, y_train)\n",
    "lr_degree2_pred_train = lr.predict(X_train_poly_degree2)\n",
    "plt.scatter(y_train, lr_degree2_pred_train)\n",
    "plt.plot([0, 250], [0, 250], 'r--')\n",
    "plt.xlabel('True Values')\n",
    "plt.ylabel('Predictions')\n",
    "plt.title('Polynomial Degree 2 Model on Training Data')"
   ]
  },
  {
   "cell_type": "code",
   "execution_count": null,
   "metadata": {},
   "outputs": [],
   "source": [
    "Poly_feat_3_fit = PolynomialFeatures(3).fit(X_train)\n",
    "X_train_poly_degree3 = Poly_feat_3_fit.transform(X_train)\n",
    "lr = LinearRegression()\n",
    "lr_degree_3_fit= lr.fit(X_train_poly_degree3, y_train)\n",
    "lr_degree3_pred_train = lr.predict(X_train_poly_degree3)\n",
    "plt.scatter(y_train, lr_degree3_pred_train)\n",
    "plt.plot([0, 250], [0, 250], 'r--')\n",
    "plt.xlabel('True Values')\n",
    "plt.ylabel('Predictions')\n",
    "plt.title('Polynomial Degree 3 Model on Training Data')"
   ]
  },
  {
   "cell_type": "code",
   "execution_count": null,
   "metadata": {},
   "outputs": [],
   "source": [
    "Poly_feat_4_fit = PolynomialFeatures(4).fit(X_train)\n",
    "X_train_poly_degree4 = Poly_feat_4_fit.transform(X_train)\n",
    "lr = LinearRegression()\n",
    "lr_degree_4_fit= lr.fit(X_train_poly_degree4, y_train)\n",
    "lr_degree4_pred_train = lr.predict(X_train_poly_degree4)\n",
    "plt.scatter(y_train, lr_degree4_pred_train)\n",
    "plt.plot([0, 250], [0, 250], 'r--')\n",
    "plt.xlabel('True Values')\n",
    "plt.ylabel('Predictions')\n",
    "plt.title('Polynomial Degree 4 Model on Training Data')"
   ]
  },
  {
   "cell_type": "code",
   "execution_count": null,
   "metadata": {},
   "outputs": [],
   "source": [
    "Poly_feat_5_fit = PolynomialFeatures(5).fit(X_train)\n",
    "X_train_poly_degree5 = Poly_feat_5_fit.transform(X_train)\n",
    "lr = LinearRegression()\n",
    "lr_degree_5_fit= lr.fit(X_train_poly_degree5, y_train)\n",
    "lr_degree5_pred_train = lr.predict(X_train_poly_degree5)\n",
    "plt.scatter(y_train, lr_degree5_pred_train)\n",
    "plt.plot([0, 250], [0, 250], 'r--')\n",
    "plt.xlabel('True Values')\n",
    "plt.ylabel('Predictions')\n",
    "plt.title('Polynomial Degree 5 Model on Training Data')"
   ]
  },
  {
   "cell_type": "code",
   "execution_count": null,
   "metadata": {},
   "outputs": [],
   "source": [
    "def f(x):\n",
    "    return np.sin(2 * np.pi * x)\n",
    "def plot_approximation(est, ax, label=None):\n",
    "    \"\"\"Plot the approximation of ``est`` on axis ``ax``. \"\"\"\n",
    "    ax.scatter(X, y, s=100)\n",
    "    ax.plot(x_plot, est.predict(x_plot[:, np.newaxis]), color='red', label=label)\n",
    "    ax.set_ylim((-2, 2))\n",
    "    ax.set_xlim((0, 1))\n",
    "    ax.set_ylabel('y')\n",
    "    ax.set_xlabel('x')\n",
    "    ax.legend(loc='upper right',frameon=True)\n",
    "x_plot = np.linspace(0, 1, 100)\n",
    "    \n",
    "def plot_coefficients(est, ax, label=None, yscale='log'):\n",
    "    coef = est.steps[-1][1].coef_.ravel()\n",
    "    if yscale == 'log':\n",
    "        ax.semilogy(np.abs(coef), marker='o', label=label)\n",
    "        ax.set_ylim((1e-1, 1e8))\n",
    "    else:\n",
    "        ax.plot(np.abs(coef), marker='o', label=label)\n",
    "    ax.set_ylabel('abs(coefficient)')\n",
    "    ax.set_xlabel('coefficients')\n",
    "    ax.set_xlim((1, 9))"
   ]
  },
  {
   "cell_type": "code",
   "execution_count": null,
   "metadata": {},
   "outputs": [],
   "source": [
    "train_error = np.empty(5)\n",
    "test_error = np.empty(5)\n",
    "for degree in range(5):\n",
    "    est = make_pipeline(PolynomialFeatures(degree), LinearRegression())\n",
    "    est.fit(X_train, y_train)\n",
    "    train_error[degree] = mean_squared_error(y_train, est.predict(X_train))\n",
    "    test_error[degree] = mean_squared_error(y_test, est.predict(X_test))\n",
    "\n",
    "plt.figure(figsize=(8,6))\n",
    "plt.plot(np.arange(5), train_error, color='green', label='train')\n",
    "plt.plot(np.arange(5), test_error, color='red', label='test')\n",
    "#plt.ylim((0.0, 1e0))\n",
    "plt.ylabel('log(mean squared error)')\n",
    "plt.xlabel('degree')\n",
    "plt.legend(loc='upper left');"
   ]
  },
  {
   "cell_type": "code",
   "execution_count": null,
   "metadata": {},
   "outputs": [],
   "source": []
  },
  {
   "cell_type": "code",
   "execution_count": null,
   "metadata": {},
   "outputs": [],
   "source": [
    "fig, ax_rows = plt.subplots(4, 2, figsize=(15, 10))\n",
    "\n",
    "# Plot the results next to the coefficient values for each of hte 2 alphas\n",
    "degree = 3\n",
    "alphas = [1e-4, 1e-2, 1e-1, 1,]\n",
    "for alpha, ax_row in zip(alphas, ax_rows):\n",
    "    ax_left, ax_right = ax_row\n",
    "    est = make_pipeline(PolynomialFeatures(degree), Lasso(alpha=alpha))\n",
    "    est.fit(X_train, y_train)\n",
    "    plot_approximation(est, ax_left, label='alpha=%r' % alpha)\n",
    "    plot_coefficients(est, ax_right, label='Lasso(alpha=%r) coefficients' % alpha, yscale=None)\n",
    "\n",
    "plt.tight_layout()\n"
   ]
  },
  {
   "cell_type": "code",
   "execution_count": null,
   "metadata": {},
   "outputs": [],
   "source": []
  },
  {
   "cell_type": "code",
   "execution_count": null,
   "metadata": {},
   "outputs": [],
   "source": []
  }
 ],
 "metadata": {
  "kernelspec": {
   "display_name": "Python 3",
   "language": "python",
   "name": "python3"
  },
  "language_info": {
   "codemirror_mode": {
    "name": "ipython",
    "version": 3
   },
   "file_extension": ".py",
   "mimetype": "text/x-python",
   "name": "python",
   "nbconvert_exporter": "python",
   "pygments_lexer": "ipython3",
   "version": "3.6.5"
  }
 },
 "nbformat": 4,
 "nbformat_minor": 2
}
